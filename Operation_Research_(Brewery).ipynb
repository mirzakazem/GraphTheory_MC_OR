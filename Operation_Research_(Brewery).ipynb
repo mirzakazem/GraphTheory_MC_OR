{
  "nbformat": 4,
  "nbformat_minor": 0,
  "metadata": {
    "colab": {
      "name": "Operation Research (Brewery).ipynb",
      "provenance": [],
      "authorship_tag": "ABX9TyOa028U0INwFyEBLMJu0KG5",
      "include_colab_link": true
    },
    "kernelspec": {
      "name": "python3",
      "display_name": "Python 3"
    }
  },
  "cells": [
    {
      "cell_type": "markdown",
      "metadata": {
        "id": "view-in-github",
        "colab_type": "text"
      },
      "source": [
        "<a href=\"https://colab.research.google.com/github/mirzakazem/GraphTheory_MC_OR/blob/main/Operation_Research_(Brewery).ipynb\" target=\"_parent\"><img src=\"https://colab.research.google.com/assets/colab-badge.svg\" alt=\"Open In Colab\"/></a>"
      ]
    },
    {
      "cell_type": "code",
      "metadata": {
        "id": "JvumVoJM5dHx"
      },
      "source": [
        "import numpy as np;\n",
        "from numpy.linalg import matrix_power\n",
        "from numpy import linalg as LA\n",
        "from scipy.optimize import linprog\n",
        "from numpy import random\n",
        "import random as rnd"
      ],
      "execution_count": null,
      "outputs": []
    },
    {
      "cell_type": "code",
      "metadata": {
        "id": "aAf6V-qG5fNA"
      },
      "source": [
        "np.set_printoptions(precision=5,suppress=True)"
      ],
      "execution_count": null,
      "outputs": []
    },
    {
      "cell_type": "code",
      "metadata": {
        "id": "5qrTiked5fra"
      },
      "source": [
        "c=[-65,-115] #constant function\n",
        "#A*X <= B\n",
        "A=[[-1,0],\\\n",
        "   [0,-1],\\\n",
        "   [2.5,7.5],\\\n",
        "   [0.125,0.125],\\\n",
        "   [17.5,10]]\n",
        "\n",
        "b=[0,0,240,5,595]"
      ],
      "execution_count": null,
      "outputs": []
    },
    {
      "cell_type": "code",
      "metadata": {
        "colab": {
          "base_uri": "https://localhost:8080/"
        },
        "id": "XiuJVE8J76f2",
        "outputId": "b24bfc01-a9d6-4eb4-f76e-12949b4d4c23"
      },
      "source": [
        "res=linprog(c,A_ub=A,b_ub=b)\n",
        "print(res)"
      ],
      "execution_count": null,
      "outputs": [
        {
          "output_type": "stream",
          "text": [
            "     con: array([], dtype=float64)\n",
            "     fun: -3999.999999951997\n",
            " message: 'Optimization terminated successfully.'\n",
            "     nit: 6\n",
            "   slack: array([ 12.,  28.,   0.,   0., 105.])\n",
            "  status: 0\n",
            " success: True\n",
            "       x: array([12., 28.])\n"
          ],
          "name": "stdout"
        }
      ]
    },
    {
      "cell_type": "code",
      "metadata": {
        "id": "XnJ127UvAwgG"
      },
      "source": [
        "\n",
        "#funct ==> 4000 dollar\n",
        "# nit ==> 6 iterations\n",
        "#slack ==> how much far from constraint (solution found at the intersection of fourth and fifth constraint)"
      ],
      "execution_count": null,
      "outputs": []
    }
  ]
}