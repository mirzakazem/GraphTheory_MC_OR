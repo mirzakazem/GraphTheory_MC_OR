{
  "nbformat": 4,
  "nbformat_minor": 0,
  "metadata": {
    "colab": {
      "name": "Operation_Research_(Factory).ipynb",
      "provenance": [],
      "include_colab_link": true
    },
    "kernelspec": {
      "display_name": "Python 3",
      "language": "python",
      "name": "python3"
    },
    "language_info": {
      "codemirror_mode": {
        "name": "ipython",
        "version": 3
      },
      "file_extension": ".py",
      "mimetype": "text/x-python",
      "name": "python",
      "nbconvert_exporter": "python",
      "pygments_lexer": "ipython3",
      "version": "3.7.6"
    }
  },
  "cells": [
    {
      "cell_type": "markdown",
      "metadata": {
        "id": "view-in-github",
        "colab_type": "text"
      },
      "source": [
        "<a href=\"https://colab.research.google.com/github/mirzakazem/GraphTheory_MC_OR/blob/main/Operation_Research_(Factory).ipynb\" target=\"_parent\"><img src=\"https://colab.research.google.com/assets/colab-badge.svg\" alt=\"Open In Colab\"/></a>"
      ]
    },
    {
      "cell_type": "code",
      "metadata": {
        "id": "Ajfq9FaMziUm"
      },
      "source": [
        "import numpy as np;\n",
        "from numpy.linalg import matrix_power\n",
        "from numpy import linalg as LA\n",
        "from scipy.optimize import linprog\n",
        "from numpy import random\n",
        "import random as rnd"
      ],
      "execution_count": null,
      "outputs": []
    },
    {
      "cell_type": "code",
      "metadata": {
        "id": "_XbtKozY0V3K"
      },
      "source": [
        "\n",
        "np.set_printoptions(precision=5,suppress=True)\n",
        "\n",
        "c=[-4,-12] #constant function\n",
        "#A*X <= B\n",
        "A=[[-1,0],\\\n",
        "   [0,-1],\\\n",
        "   [1,0],\\\n",
        "   [0,1],\\\n",
        "   [1,2]]\n",
        "\n",
        "b=[0,0,1000,500,1750]"
      ],
      "execution_count": null,
      "outputs": []
    },
    {
      "cell_type": "code",
      "metadata": {
        "colab": {
          "base_uri": "https://localhost:8080/"
        },
        "id": "1ghokhaa2qfk",
        "outputId": "7431b884-a4d7-4b40-8175-2623e98f6d55"
      },
      "source": [
        "res=linprog(c,A_ub=A,b_ub=b)\n",
        "print(res)"
      ],
      "execution_count": null,
      "outputs": [
        {
          "output_type": "stream",
          "text": [
            "     con: array([], dtype=float64)\n",
            "     fun: -8999.999998836978\n",
            " message: 'Optimization terminated successfully.'\n",
            "     nit: 7\n",
            "   slack: array([750., 500., 250.,   0.,   0.])\n",
            "  status: 0\n",
            " success: True\n",
            "       x: array([750., 500.])\n"
          ],
          "name": "stdout"
        }
      ]
    },
    {
      "cell_type": "code",
      "metadata": {
        "id": "TuOEI9Lc3MwX"
      },
      "source": [
        "\n",
        "#funct ==> 9000 dollar\n",
        "# nit ==> 7 iterations\n",
        "#slack ==> how much far from constraint (solution found at the intersection of fourth and fifth constraint)"
      ],
      "execution_count": null,
      "outputs": []
    }
  ]
}