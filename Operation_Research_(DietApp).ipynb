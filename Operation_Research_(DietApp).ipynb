{
  "nbformat": 4,
  "nbformat_minor": 0,
  "metadata": {
    "colab": {
      "name": "Operation Research (DietApp).ipynb",
      "provenance": [],
      "authorship_tag": "ABX9TyO8gkSqmxuAXHz6DDvK/TKG",
      "include_colab_link": true
    },
    "kernelspec": {
      "name": "python3",
      "display_name": "Python 3"
    }
  },
  "cells": [
    {
      "cell_type": "markdown",
      "metadata": {
        "id": "view-in-github",
        "colab_type": "text"
      },
      "source": [
        "<a href=\"https://colab.research.google.com/github/mirzakazem/GraphTheory_MC_OR/blob/main/Operation_Research_(DietApp).ipynb\" target=\"_parent\"><img src=\"https://colab.research.google.com/assets/colab-badge.svg\" alt=\"Open In Colab\"/></a>"
      ]
    },
    {
      "cell_type": "code",
      "metadata": {
        "id": "ahjrntT5D5D7"
      },
      "source": [
        "import numpy as np;\n",
        "from numpy.linalg import matrix_power\n",
        "from numpy import linalg as LA\n",
        "from scipy.optimize import linprog\n",
        "from numpy import random\n",
        "import random as rnd"
      ],
      "execution_count": null,
      "outputs": []
    },
    {
      "cell_type": "code",
      "metadata": {
        "id": "Ea2Uji8uD-D9"
      },
      "source": [
        "np.set_printoptions(precision=5,suppress=True)"
      ],
      "execution_count": null,
      "outputs": []
    },
    {
      "cell_type": "code",
      "metadata": {
        "id": "9ds4CJyBD-ib"
      },
      "source": [
        "#objective function\n",
        "c=[2,24,13,9,20,19] \n",
        "#A*X <= B\n",
        "A=[\\\n",
        "[-110,-205,-160,-160,-420,-260],\\\n",
        "[-4,-32,-13,-8,-4,-14],\\\n",
        "[-2,-12,-54,-285,-22,-80]\\\n",
        "]\n",
        "\n",
        "b=[-2000,-55,-800]\n",
        "bound=[(0,4),(0,3),(0,2),(0,3),(0,5),(0,2)]#min and max serving per item"
      ],
      "execution_count": null,
      "outputs": []
    },
    {
      "cell_type": "code",
      "metadata": {
        "colab": {
          "base_uri": "https://localhost:8080/"
        },
        "id": "PypI_0OGEBpz",
        "outputId": "affa56c9-445e-4855-8fd6-b5dae4c6a214"
      },
      "source": [
        "res=linprog(c,A_ub=A,b_ub=b,bounds=bound)\n",
        "print(res)"
      ],
      "execution_count": null,
      "outputs": [
        {
          "output_type": "stream",
          "text": [
            "     con: array([], dtype=float64)\n",
            "     fun: 88.63900414962424\n",
            " message: 'Optimization terminated successfully.'\n",
            "     nit: 10\n",
            "   slack: array([ -0.    ,   0.    , 138.3112])\n",
            "  status: 0\n",
            " success: True\n",
            "       x: array([4.     , 0.     , 0.41079, 3.     , 2.41494, 0.     ])\n"
          ],
          "name": "stdout"
        }
      ]
    },
    {
      "cell_type": "code",
      "metadata": {
        "id": "sXxknbx2EDQd"
      },
      "source": [
        "\n",
        "#funct ==> 88 dollar\n",
        "# nit ==> 10 iterations\n",
        "#slack ==> how much far from constraint "
      ],
      "execution_count": null,
      "outputs": []
    }
  ]
}