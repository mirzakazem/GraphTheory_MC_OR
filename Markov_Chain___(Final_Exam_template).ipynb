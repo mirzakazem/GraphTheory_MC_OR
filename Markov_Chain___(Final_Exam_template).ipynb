{
  "nbformat": 4,
  "nbformat_minor": 0,
  "metadata": {
    "kernelspec": {
      "display_name": "Python 3",
      "language": "python",
      "name": "python3"
    },
    "language_info": {
      "codemirror_mode": {
        "name": "ipython",
        "version": 3
      },
      "file_extension": ".py",
      "mimetype": "text/x-python",
      "name": "python",
      "nbconvert_exporter": "python",
      "pygments_lexer": "ipython3",
      "version": "3.7.6"
    },
    "colab": {
      "name": "Markov Chain _ (Final Exam template).ipynb",
      "provenance": [],
      "include_colab_link": true
    }
  },
  "cells": [
    {
      "cell_type": "markdown",
      "metadata": {
        "id": "view-in-github",
        "colab_type": "text"
      },
      "source": [
        "<a href=\"https://colab.research.google.com/github/mirzakazem/GraphTheory_MC_OR/blob/main/Markov_Chain___(Final_Exam_template).ipynb\" target=\"_parent\"><img src=\"https://colab.research.google.com/assets/colab-badge.svg\" alt=\"Open In Colab\"/></a>"
      ]
    },
    {
      "cell_type": "code",
      "metadata": {
        "id": "g-GUDEpzW0C3"
      },
      "source": [
        "import numpy as np\n",
        "\n",
        "from numpy.linalg import matrix_power\n",
        "\n",
        "from numpy import linalg as LA"
      ],
      "execution_count": null,
      "outputs": []
    },
    {
      "cell_type": "code",
      "metadata": {
        "id": "RNNcCAjiW0C5",
        "outputId": "aa4a9702-715d-436b-fcb3-a5f43a90a75f"
      },
      "source": [
        "np.set_printoptions(precision=5,suppress=True)\n",
        "#probability matrix\n",
        "\n",
        "\n",
        "p=[[0,2/5,3/5,0.0],\\\n",
        "   [1/4,0.0,1/2,1/4],\\\n",
        "   [0.0,1/3,0.0,2/3],\\\n",
        "   [0,0.0,1,0.0]]\n",
        "  \n",
        "\n",
        "p=np.array(p)\n",
        "print(p)\n",
        "\n",
        "for i in range(len(p[1])):\n",
        "    print(\"sum of proba for column\",i,\":\" ,sum(p[i]))\n",
        "    "
      ],
      "execution_count": null,
      "outputs": [
        {
          "output_type": "stream",
          "text": [
            "[[0.      0.4     0.6     0.     ]\n",
            " [0.25    0.      0.5     0.25   ]\n",
            " [0.      0.33333 0.      0.66667]\n",
            " [0.      0.      1.      0.     ]]\n",
            "sum of proba for column 0 : 1.0\n",
            "sum of proba for column 1 : 1.0\n",
            "sum of proba for column 2 : 1.0\n",
            "sum of proba for column 3 : 1.0\n"
          ],
          "name": "stdout"
        }
      ]
    },
    {
      "cell_type": "code",
      "metadata": {
        "id": "l9qe9GqWW0C5",
        "outputId": "578b9b6d-eff5-466f-9d28-3ef422b1e61a"
      },
      "source": [
        "print(\"9-step transition between 4 and 4:\",matrix_power(p,9)[3,3])"
      ],
      "execution_count": null,
      "outputs": [
        {
          "output_type": "stream",
          "text": [
            "9-step transition between 4 and 4: 0.262716049382716\n"
          ],
          "name": "stdout"
        }
      ]
    },
    {
      "cell_type": "code",
      "metadata": {
        "id": "Q6QMR-rxW0C6",
        "outputId": "70078a17-ebf5-4045-9b39-fc2ddaeeaca8"
      },
      "source": [
        "#prove irreducibility\n",
        "print(matrix_power(p,0)+matrix_power(p,1)+matrix_power(p,2)+matrix_power(p,3))\n",
        "\n"
      ],
      "execution_count": null,
      "outputs": [
        {
          "output_type": "stream",
          "text": [
            "[[1.15    0.70667 1.46    0.68333]\n",
            " [0.31667 1.4     1.36667 0.91667]\n",
            " [0.08333 0.64444 1.96667 1.30556]\n",
            " [0.08333 0.33333 1.83333 1.75   ]]\n"
          ],
          "name": "stdout"
        }
      ]
    },
    {
      "cell_type": "code",
      "metadata": {
        "id": "TQ-5op58W0C6",
        "outputId": "ac52b467-342b-4691-e120-1ebfb0b3e33c"
      },
      "source": [
        "#prove irreducibility with loop\n",
        "temp=matrix_power(p,0)\n",
        "for i in range(1,4):\n",
        "    temp+=matrix_power(p,i)\n",
        "print(temp)"
      ],
      "execution_count": null,
      "outputs": [
        {
          "output_type": "stream",
          "text": [
            "[[1.15    0.70667 1.46    0.68333]\n",
            " [0.31667 1.4     1.36667 0.91667]\n",
            " [0.08333 0.64444 1.96667 1.30556]\n",
            " [0.08333 0.33333 1.83333 1.75   ]]\n"
          ],
          "name": "stdout"
        }
      ]
    },
    {
      "cell_type": "code",
      "metadata": {
        "id": "2NtC5P4AW0C6",
        "outputId": "a272fc04-68b1-458b-9605-3ede309fe597"
      },
      "source": [
        "#compute the stationary PI of ergodic MC:\n",
        "print(\"the stationary PI of ergodic MC:\")\n",
        "print(\"\\n\")\n",
        "print(matrix_power(p,1000))"
      ],
      "execution_count": null,
      "outputs": [
        {
          "output_type": "stream",
          "text": [
            "the stationary PI of ergodic MC:\n",
            "\n",
            "\n",
            "[[0.04167 0.16667 0.45    0.34167]\n",
            " [0.04167 0.16667 0.45    0.34167]\n",
            " [0.04167 0.16667 0.45    0.34167]\n",
            " [0.04167 0.16667 0.45    0.34167]]\n"
          ],
          "name": "stdout"
        }
      ]
    },
    {
      "cell_type": "code",
      "metadata": {
        "id": "FVubr70DW0C7",
        "outputId": "9def131e-f204-4a0f-e908-118d9a1ddfa7"
      },
      "source": [
        "#to get the average of processed waste per 1 hour:\n",
        "p_stationary=matrix_power(p,1000)[1]\n",
        "q=[0.5,1.5,2,2.5]\n",
        "q=np.array(q)\n",
        "\n",
        "e=p_stationary@np.matrix.transpose(q)\n",
        "print(e,\"tons\")"
      ],
      "execution_count": null,
      "outputs": [
        {
          "output_type": "stream",
          "text": [
            "2.0249999999999444 tons\n"
          ],
          "name": "stdout"
        }
      ]
    },
    {
      "cell_type": "code",
      "metadata": {
        "id": "TjqZowVLW0C7"
      },
      "source": [
        ""
      ],
      "execution_count": null,
      "outputs": []
    }
  ]
}